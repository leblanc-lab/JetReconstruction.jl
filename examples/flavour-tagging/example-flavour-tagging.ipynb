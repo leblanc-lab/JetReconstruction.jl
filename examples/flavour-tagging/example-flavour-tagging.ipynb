{
 "cells": [
  {
   "cell_type": "code",
   "execution_count": 30,
   "id": "ee6bf68f",
   "metadata": {},
   "outputs": [
    {
     "name": "stderr",
     "output_type": "stream",
     "text": [
      "WARNING: replacing module JetFlavourHelper.\n",
      "WARNING: replacing module JetConstituentUtils.\n",
      "WARNING: replacing module ReconstructedParticle.\n"
     ]
    },
    {
     "data": {
      "text/plain": [
       "Main.ReconstructedParticle"
      ]
     },
     "metadata": {},
     "output_type": "display_data"
    }
   ],
   "source": [
    "using EDM4hep\n",
    "using EDM4hep.RootIO\n",
    "using JetReconstruction\n",
    "using StaticArrays\n",
    "using LorentzVectorHEP\n",
    "using JSON\n",
    "using ONNXRunTime\n",
    "using LinearAlgebra\n",
    "using StructArrays\n",
    "using UnROOT\n",
    "using Plots\n",
    "\n",
    "# Import our custom modules\n",
    "include(\"JetFlavourHelper.jl\")  # Our main module\n",
    "include(\"JetConstituentUtils.jl\")  # For constituent feature extraction\n",
    "include(\"ReconstructedParticle.jl\")  # For handling reconstructed particles"
   ]
  },
  {
   "cell_type": "code",
   "execution_count": 3,
   "id": "dc4afae5",
   "metadata": {},
   "outputs": [
    {
     "name": "stdout",
     "output_type": "stream",
     "text": [
      "The model predicts these flavor classes:\n",
      " - recojet_isG\n",
      " - recojet_isQ\n",
      " - recojet_isS\n",
      " - recojet_isC\n",
      " - recojet_isB\n"
     ]
    }
   ],
   "source": [
    "# Paths to model files\n",
    "model_dir = \"wc_pt_7classes_12_04_2023\"\n",
    "onnx_path = joinpath(model_dir, \"fccee_flavtagging_edm4hep_wc_v1.onnx\")\n",
    "json_path = joinpath(model_dir, \"fccee_flavtagging_edm4hep_wc_v1.json\")\n",
    "\n",
    "# Load the configuration and model\n",
    "config = JSON.parsefile(json_path)\n",
    "model = ONNXRunTime.load_inference(onnx_path)\n",
    "\n",
    "# Display the output classes we'll predict\n",
    "println(\"The model predicts these flavor classes:\")\n",
    "for class_name in config[\"output_names\"]\n",
    "    println(\" - \", class_name)\n",
    "end"
   ]
  },
  {
   "cell_type": "code",
   "execution_count": 5,
   "id": "20940a27",
   "metadata": {},
   "outputs": [
    {
     "name": "stdout",
     "output_type": "stream",
     "text": [
      "Loaded 100000 events\n",
      "Processing event #13\n",
      "Loaded 107 reconstructed particles\n",
      "Loaded 44 tracks\n"
     ]
    }
   ],
   "source": [
    "# Path to ROOT file with EDM4hep data\n",
    "edm4hep_path = \"events_080263084.root\"\n",
    "reader = RootIO.Reader(edm4hep_path)\n",
    "\n",
    "# Get event information\n",
    "events = RootIO.get(reader, \"events\")\n",
    "println(\"Loaded $(length(events)) events\")\n",
    "\n",
    "# Choose a specific event to analyze (event #13)\n",
    "event_id = 13\n",
    "evt = events[event_id]\n",
    "println(\"Processing event #$event_id\")\n",
    "\n",
    "# Get reconstructed particles and tracks\n",
    "recps = RootIO.get(reader, evt, \"ReconstructedParticles\")\n",
    "tracks = RootIO.get(reader, evt, \"EFlowTrack_1\")\n",
    "\n",
    "# Set the magnetic field strength (in Tesla)\n",
    "bz = 2.0  # This should be obtained from your data if possible\n",
    "\n",
    "# Get other needed collections for feature extraction\n",
    "trackdata = RootIO.get(reader, evt, \"EFlowTrack\")\n",
    "trackerhits = RootIO.get(reader, evt, \"TrackerHits\")\n",
    "gammadata = RootIO.get(reader, evt, \"EFlowPhoton\")\n",
    "nhdata = RootIO.get(reader, evt, \"EFlowNeutralHadron\")\n",
    "calohits = RootIO.get(reader, evt, \"CalorimeterHits\")\n",
    "dNdx = RootIO.get(reader, evt, \"EFlowTrack_2\")\n",
    "\n",
    "# Load track length information from the ROOT file\n",
    "# Note: This is a placeholder. You need to replace this with the loading from EDM4hep.jl once I fix the bug in EDM4hep.\n",
    "f = ROOTFile(edm4hep_path)\n",
    "mytree = LazyTree(f, \"events\", [\"EFlowTrack_L\"])\n",
    "track_L = collect(mytree[event_id].EFlowTrack_L)\n",
    "\n",
    "println(\"Loaded $(length(recps)) reconstructed particles\")\n",
    "println(\"Loaded $(length(tracks)) tracks\")"
   ]
  },
  {
   "cell_type": "code",
   "execution_count": 15,
   "id": "aee9ef96",
   "metadata": {},
   "outputs": [
    {
     "data": {
      "text/plain": [
       "2-element Vector{StructVector{EDM4hep.ReconstructedParticle}}:\n",
       " [EDM4hep.ReconstructedParticle(#76, 22, 0.1520507f0, (-0.089623965, -0.118329994, 0.032938913), (0.0, 0.0, 0.0), 0.0f0, 3.1475472f-5, 0.0f0, Float32[0.0, 0.0, 0.0, 0.0, 0.0, 0.0, 0.0, 0.0, 0.0, 0.0], Cluster#[32], Track#[], EDM4hep.ReconstructedParticle#[], ParticleID#[], #0, #0), EDM4hep.ReconstructedParticle(#75, 22, 0.38633013f0, (-0.3512648, 0.14457734, 0.07043707), (0.0, 0.0, 0.0), 0.0f0, 9.40061f-5, 0.0f0, Float32[0.0, 0.0, 0.0, 0.0, 0.0, 0.0, 0.0, 0.0, 0.0, 0.0], Cluster#[31], Track#[], EDM4hep.ReconstructedParticle#[], ParticleID#[], #0, #0), EDM4hep.ReconstructedParticle(#78, 22, 0.049976002f0, (-0.041344654, -0.018857136, 0.020799734), (0.0, 0.0, 0.0), 0.0f0, -9.3014905f-6, 0.0f0, Float32[0.0, 0.0, 0.0, 0.0, 0.0, 0.0, 0.0, 0.0, 0.0, 0.0], Cluster#[34], Track#[], EDM4hep.ReconstructedParticle#[], ParticleID#[], #0, #0), EDM4hep.ReconstructedParticle(#45, 22, 0.13387372f0, (-0.039546303, 0.03148594, -0.1239633), (0.0, 0.0, 0.0), 0.0f0, -4.3123426f-5, 0.0f0, Float32[0.0, 0.0, 0.0, 0.0, 0.0, 0.0, 0.0, 0.0, 0.0, 0.0], Cluster#[1], Track#[], EDM4hep.ReconstructedParticle#[], ParticleID#[], #0, #0), EDM4hep.ReconstructedParticle(#71, 22, 0.5756376f0, (-0.22689193, -0.52176964, -0.08737899), (0.0, 0.0, 0.0), 0.0f0, 0.00019112426f0, 0.0f0, Float32[0.0, 0.0, 0.0, 0.0, 0.0, 0.0, 0.0, 0.0, 0.0, 0.0], Cluster#[27], Track#[], EDM4hep.ReconstructedParticle#[], ParticleID#[], #0, #0), EDM4hep.ReconstructedParticle(#104, 130, 1.4943697f0, (-1.1908376, -0.72857654, -0.19132833), (0.0, 0.0, 0.0), 0.0f0, 0.49761078f0, 0.0f0, Float32[0.0, 0.0, 0.0, 0.0, 0.0, 0.0, 0.0, 0.0, 0.0, 0.0], Cluster#[3], Track#[], EDM4hep.ReconstructedParticle#[], ParticleID#[], #0, #0), EDM4hep.ReconstructedParticle(#62, 22, 0.22047837f0, (-0.1541529, 0.114744574, -0.10807998), (0.0, 0.0, 0.0), 0.0f0, -3.741905f-5, 0.0f0, Float32[0.0, 0.0, 0.0, 0.0, 0.0, 0.0, 0.0, 0.0, 0.0, 0.0], Cluster#[18], Track#[], EDM4hep.ReconstructedParticle#[], ParticleID#[], #0, #0), EDM4hep.ReconstructedParticle(#64, 22, 0.6573215f0, (-0.45445296, 0.36435023, -0.30461943), (0.0, 0.0, 0.0), 0.0f0, -0.000120187055f0, 0.0f0, Float32[0.0, 0.0, 0.0, 0.0, 0.0, 0.0, 0.0, 0.0, 0.0, 0.0], Cluster#[20], Track#[], EDM4hep.ReconstructedParticle#[], ParticleID#[], #0, #0), EDM4hep.ReconstructedParticle(#19, 0, 0.8983756f0, (-0.784344, -0.38077042, -0.16558142), (0.0, 0.0, 0.0), 1.0f0, 0.13957039f0, 0.0f0, Float32[0.0, 0.0, 0.0, 0.0, 0.0, 0.0, 0.0, 0.0, 0.0, 0.0], Cluster#[], Track#[19], EDM4hep.ReconstructedParticle#[], ParticleID#[19], #0, #0), EDM4hep.ReconstructedParticle(#69, 22, 0.28369987f0, (-0.19531888, 0.17400928, -0.10980406), (0.0, 0.0, 0.0), 0.0f0, -7.082861f-5, 0.0f0, Float32[0.0, 0.0, 0.0, 0.0, 0.0, 0.0, 0.0, 0.0, 0.0, 0.0], Cluster#[25], Track#[], EDM4hep.ReconstructedParticle#[], ParticleID#[], #0, #0)  …  EDM4hep.ReconstructedParticle(#12, 0, 2.4555316f0, (-1.597705, -0.37442422, -1.8213458), (0.0, 0.0, 0.0), 1.0f0, 0.13957039f0, 0.0f0, Float32[0.0, 0.0, 0.0, 0.0, 0.0, 0.0, 0.0, 0.0, 0.0, 0.0], Cluster#[], Track#[12], EDM4hep.ReconstructedParticle#[], ParticleID#[12], #0, #0), EDM4hep.ReconstructedParticle(#13, 0, 1.1085825f0, (-0.7606032, 0.44158337, -0.6602744), (0.0, 0.0, 0.0), 1.0f0, 0.13957039f0, 0.0f0, Float32[0.0, 0.0, 0.0, 0.0, 0.0, 0.0, 0.0, 0.0, 0.0, 0.0], Cluster#[], Track#[13], EDM4hep.ReconstructedParticle#[], ParticleID#[13], #0, #0), EDM4hep.ReconstructedParticle(#51, 22, 0.49541944f0, (-0.25657657, -0.25897962, -0.33546755), (0.0, 0.0, 0.0), 0.0f0, -0.000188032f0, 0.0f0, Float32[0.0, 0.0, 0.0, 0.0, 0.0, 0.0, 0.0, 0.0, 0.0, 0.0], Cluster#[7], Track#[], EDM4hep.ReconstructedParticle#[], ParticleID#[], #0, #0), EDM4hep.ReconstructedParticle(#50, 22, 0.046195857f0, (-0.0330726, -0.0062497887, -0.03164176), (0.0, 0.0, 0.0), 0.0f0, -1.1523432f-5, 0.0f0, Float32[0.0, 0.0, 0.0, 0.0, 0.0, 0.0, 0.0, 0.0, 0.0, 0.0], Cluster#[6], Track#[], EDM4hep.ReconstructedParticle#[], ParticleID#[], #0, #0), EDM4hep.ReconstructedParticle(#52, 22, 0.5240443f0, (0.28942832, -0.26235357, -0.34931967), (0.0, 0.0, 0.0), 0.0f0, 0.00011873567f0, 0.0f0, Float32[0.0, 0.0, 0.0, 0.0, 0.0, 0.0, 0.0, 0.0, 0.0, 0.0], Cluster#[8], Track#[], EDM4hep.ReconstructedParticle#[], ParticleID#[], #0, #0), EDM4hep.ReconstructedParticle(#58, 22, 1.0593754f0, (-0.724893, 0.5062173, -0.58356696), (0.0, 0.0, 0.0), 0.0f0, 0.00021832173f0, 0.0f0, Float32[0.0, 0.0, 0.0, 0.0, 0.0, 0.0, 0.0, 0.0, 0.0, 0.0], Cluster#[14], Track#[], EDM4hep.ReconstructedParticle#[], ParticleID#[], #0, #0), EDM4hep.ReconstructedParticle(#15, 0, 5.37562f0, (-3.8591306, 2.4437666, -2.8307111), (0.0, 0.0, 0.0), -1.0f0, 0.13957039f0, 0.0f0, Float32[0.0, 0.0, 0.0, 0.0, 0.0, 0.0, 0.0, 0.0, 0.0, 0.0], Cluster#[], Track#[15], EDM4hep.ReconstructedParticle#[], ParticleID#[15], #0, #0), EDM4hep.ReconstructedParticle(#54, 22, 0.22999354f0, (-0.13855423, 0.12085048, -0.13818434), (0.0, 0.0, 0.0), 0.0f0, 4.8705315f-5, 0.0f0, Float32[0.0, 0.0, 0.0, 0.0, 0.0, 0.0, 0.0, 0.0, 0.0, 0.0], Cluster#[10], Track#[], EDM4hep.ReconstructedParticle#[], ParticleID#[], #0, #0), EDM4hep.ReconstructedParticle(#7, 0, 4.621267f0, (-2.2444804, 0.063488, -4.008833), (0.0, 0.0, 0.0), -1.0f0, 0.13957039f0, 0.0f0, Float32[0.0, 0.0, 0.0, 0.0, 0.0, 0.0, 0.0, 0.0, 0.0, 0.0], Cluster#[], Track#[7], EDM4hep.ReconstructedParticle#[], ParticleID#[7], #0, #0), EDM4hep.ReconstructedParticle(#53, 22, 1.2737275f0, (-0.5775806, -0.829111, -0.7754724), (0.0, 0.0, 0.0), 0.0f0, 0.00018724016f0, 0.0f0, Float32[0.0, 0.0, 0.0, 0.0, 0.0, 0.0, 0.0, 0.0, 0.0, 0.0], Cluster#[9], Track#[], EDM4hep.ReconstructedParticle#[], ParticleID#[], #0, #0)]\n",
       " [EDM4hep.ReconstructedParticle(#89, 22, 1.1936452f0, (0.6782778, -0.057001624, 0.98055047), (0.0, 0.0, 0.0), 0.0f0, -0.0004897732f0, 0.0f0, Float32[0.0, 0.0, 0.0, 0.0, 0.0, 0.0, 0.0, 0.0, 0.0, 0.0], Cluster#[45], Track#[], EDM4hep.ReconstructedParticle#[], ParticleID#[], #0, #0), EDM4hep.ReconstructedParticle(#37, 0, 1.1976285f0, (-0.22208184, -0.13244933, 1.1610216), (0.0, 0.0, 0.0), -1.0f0, 0.13957039f0, 0.0f0, Float32[0.0, 0.0, 0.0, 0.0, 0.0, 0.0, 0.0, 0.0, 0.0, 0.0], Cluster#[], Track#[37], EDM4hep.ReconstructedParticle#[], ParticleID#[37], #0, #0), EDM4hep.ReconstructedParticle(#28, 0, 2.0789955f0, (0.8029876, 0.4623845, 1.8558432), (0.0, 0.0, 0.0), -1.0f0, 0.13957039f0, 0.0f0, Float32[0.0, 0.0, 0.0, 0.0, 0.0, 0.0, 0.0, 0.0, 0.0, 0.0], Cluster#[], Track#[28], EDM4hep.ReconstructedParticle#[], ParticleID#[28], #0, #0), EDM4hep.ReconstructedParticle(#83, 22, 0.21674497f0, (0.15373908, -0.013106996, 0.15221988), (0.0, 0.0, 0.0), 0.0f0, -7.122148f-5, 0.0f0, Float32[0.0, 0.0, 0.0, 0.0, 0.0, 0.0, 0.0, 0.0, 0.0, 0.0], Cluster#[39], Track#[], EDM4hep.ReconstructedParticle#[], ParticleID#[], #0, #0), EDM4hep.ReconstructedParticle(#96, 22, 0.60978776f0, (0.047934063, -0.22527649, 0.5646184), (0.0, 0.0, 0.0), 0.0f0, -7.7949735f-5, 0.0f0, Float32[0.0, 0.0, 0.0, 0.0, 0.0, 0.0, 0.0, 0.0, 0.0, 0.0], Cluster#[52], Track#[], EDM4hep.ReconstructedParticle#[], ParticleID#[], #0, #0), EDM4hep.ReconstructedParticle(#97, 22, 0.29129785f0, (0.039392333, 0.061820883, 0.28192347), (0.0, 0.0, 0.0), 0.0f0, 9.568689f-5, 0.0f0, Float32[0.0, 0.0, 0.0, 0.0, 0.0, 0.0, 0.0, 0.0, 0.0, 0.0], Cluster#[53], Track#[], EDM4hep.ReconstructedParticle#[], ParticleID#[], #0, #0), EDM4hep.ReconstructedParticle(#100, 22, 0.74265f0, (0.12233942, 0.02359777, 0.7321238), (0.0, 0.0, 0.0), 0.0f0, -0.00017665928f0, 0.0f0, Float32[0.0, 0.0, 0.0, 0.0, 0.0, 0.0, 0.0, 0.0, 0.0, 0.0], Cluster#[56], Track#[], EDM4hep.ReconstructedParticle#[], ParticleID#[], #0, #0), EDM4hep.ReconstructedParticle(#36, 0, 0.45058462f0, (0.14612207, -0.14193416, 0.3768949), (0.0, 0.0, 0.0), -1.0f0, 0.13957039f0, 0.0f0, Float32[0.0, 0.0, 0.0, 0.0, 0.0, 0.0, 0.0, 0.0, 0.0, 0.0], Cluster#[], Track#[36], EDM4hep.ReconstructedParticle#[], ParticleID#[36], #0, #0), EDM4hep.ReconstructedParticle(#41, 0, 0.37611783f0, (0.025079595, 0.14496167, 0.316768), (0.0, 0.0, 0.0), -1.0f0, 0.13957039f0, 0.0f0, Float32[0.0, 0.0, 0.0, 0.0, 0.0, 0.0, 0.0, 0.0, 0.0, 0.0], Cluster#[], Track#[41], EDM4hep.ReconstructedParticle#[], ParticleID#[41], #0, #0), EDM4hep.ReconstructedParticle(#33, 0, 7.690202f0, (-1.8375746, -0.99201083, 7.39993), (0.0, 0.0, 0.0), 1.0f0, 0.13957039f0, 0.0f0, Float32[0.0, 0.0, 0.0, 0.0, 0.0, 0.0, 0.0, 0.0, 0.0, 0.0], Cluster#[], Track#[33], EDM4hep.ReconstructedParticle#[], ParticleID#[33], #0, #0)  …  EDM4hep.ReconstructedParticle(#44, 0, 0.5036083f0, (-0.42012292, 0.24007756, -0.0010058009), (0.0, 0.0, 0.0), -1.0f0, 0.13957039f0, 0.0f0, Float32[0.0, 0.0, 0.0, 0.0, 0.0, 0.0, 0.0, 0.0, 0.0, 0.0], Cluster#[], Track#[44], EDM4hep.ReconstructedParticle#[], ParticleID#[44], #0, #0), EDM4hep.ReconstructedParticle(#26, 0, 3.087824f0, (1.5788192, 0.13500251, 2.6465604), (0.0, 0.0, 0.0), -1.0f0, 0.13957039f0, 0.0f0, Float32[0.0, 0.0, 0.0, 0.0, 0.0, 0.0, 0.0, 0.0, 0.0, 0.0], Cluster#[], Track#[26], EDM4hep.ReconstructedParticle#[], ParticleID#[26], #0, #0), EDM4hep.ReconstructedParticle(#93, 22, 0.6603991f0, (0.33509701, 0.07834043, 0.5636486), (0.0, 0.0, 0.0), 0.0f0, -0.00013876552f0, 0.0f0, Float32[0.0, 0.0, 0.0, 0.0, 0.0, 0.0, 0.0, 0.0, 0.0, 0.0], Cluster#[49], Track#[], EDM4hep.ReconstructedParticle#[], ParticleID#[], #0, #0), EDM4hep.ReconstructedParticle(#27, 0, 1.6954948f0, (0.35920623, -0.6964107, 1.4970657), (0.0, 0.0, 0.0), 1.0f0, 0.13957039f0, 0.0f0, Float32[0.0, 0.0, 0.0, 0.0, 0.0, 0.0, 0.0, 0.0, 0.0, 0.0], Cluster#[], Track#[27], EDM4hep.ReconstructedParticle#[], ParticleID#[27], #0, #0), EDM4hep.ReconstructedParticle(#94, 22, 0.07409216f0, (-0.024796741, -0.026110636, 0.06475341), (0.0, 0.0, 0.0), 0.0f0, -4.193404f-6, 0.0f0, Float32[0.0, 0.0, 0.0, 0.0, 0.0, 0.0, 0.0, 0.0, 0.0, 0.0], Cluster#[50], Track#[], EDM4hep.ReconstructedParticle#[], ParticleID#[], #0, #0), EDM4hep.ReconstructedParticle(#25, 0, 15.549298f0, (8.51077, 0.5113802, 13.002876), (0.0, 0.0, 0.0), 1.0f0, 0.105658375f0, 0.0f0, Float32[0.0, 0.0, 0.0, 0.0, 0.0, 0.0, 0.0, 0.0, 0.0, 0.0], Cluster#[], Track#[25], EDM4hep.ReconstructedParticle#[], ParticleID#[25], #0, #0), EDM4hep.ReconstructedParticle(#82, 22, 0.119982176f0, (0.040278118, -0.08053316, 0.07929569), (0.0, 0.0, 0.0), 0.0f0, -1.8204464f-5, 0.0f0, Float32[0.0, 0.0, 0.0, 0.0, 0.0, 0.0, 0.0, 0.0, 0.0, 0.0], Cluster#[38], Track#[], EDM4hep.ReconstructedParticle#[], ParticleID#[], #0, #0), EDM4hep.ReconstructedParticle(#85, 22, 8.771331f0, (5.217448, 0.21712558, 7.0475054), (0.0, 0.0, 0.0), 0.0f0, 0.0009403553f0, 0.0f0, Float32[0.0, 0.0, 0.0, 0.0, 0.0, 0.0, 0.0, 0.0, 0.0, 0.0], Cluster#[41], Track#[], EDM4hep.ReconstructedParticle#[], ParticleID#[], #0, #0), EDM4hep.ReconstructedParticle(#86, 22, 2.9642935f0, (1.7722478, 0.12276255, 2.3729944), (0.0, 0.0, 0.0), 0.0f0, 0.00051620445f0, 0.0f0, Float32[0.0, 0.0, 0.0, 0.0, 0.0, 0.0, 0.0, 0.0, 0.0, 0.0], Cluster#[42], Track#[], EDM4hep.ReconstructedParticle#[], ParticleID#[], #0, #0), EDM4hep.ReconstructedParticle(#87, 22, 0.9289738f0, (0.53788936, -0.005551459, 0.75738794), (0.0, 0.0, 0.0), 0.0f0, 0.00011837895f0, 0.0f0, Float32[0.0, 0.0, 0.0, 0.0, 0.0, 0.0, 0.0, 0.0, 0.0, 0.0], Cluster#[43], Track#[], EDM4hep.ReconstructedParticle#[], ParticleID#[], #0, #0)]"
      ]
     },
     "metadata": {},
     "output_type": "display_data"
    }
   ],
   "source": [
    "# Find muons in the event\n",
    "muons = RootIO.get(reader, evt, \"Muon#0\")\n",
    "muons_all = ReconstructedParticle.get(muons, recps)\n",
    "muons_selected = ReconstructedParticle.sel_p(20.0)(muons_all)\n",
    "# TODO: There is a bug in the sel_p function. \n",
    "# When there's only one muon, it should returns a single value instead of a collection but it's buggy.\n",
    "\n",
    "# Remove high-momentum muons from the input particles\n",
    "recps_no_muons = ReconstructedParticle.remove(recps, muons_selected)\n",
    "vrecps = collect(recps_no_muons)\n",
    "\n",
    "# Cluster jets using the EEkt algorithm with R=2.0 and p=1.0\n",
    "cs = jet_reconstruct(vrecps; p = 1.0, R = 2.0, algorithm = JetAlgorithm.EEKt)\n",
    "\n",
    "# Get 2 exclusive jets\n",
    "jets = exclusive_jets(cs; njets=2, T=EEJet)\n",
    "\n",
    "# For each jet, get its constituent particles\n",
    "constituent_indices = [constituent_indexes(jet, cs) for jet in jets]\n",
    "jet_constituents = JetConstituentUtils.build_constituents_cluster(recps_no_muons, constituent_indices)\n"
   ]
  },
  {
   "cell_type": "code",
   "execution_count": 35,
   "id": "97f159f1",
   "metadata": {},
   "outputs": [
    {
     "name": "stdout",
     "output_type": "stream",
     "text": [
      "Extracting features for flavor tagging...\n",
      "Running flavor tagging inference...\n",
      "Jet scores:\n",
      " - recojet_isG: 0.63997483\n",
      " - recojet_isB: 0.13061157\n",
      " - recojet_isQ: 0.05580642\n",
      " - recojet_isC: 0.030684045\n",
      " - recojet_isS: 0.14292312\n"
     ]
    }
   ],
   "source": [
    "println(\"Extracting features for flavor tagging...\")\n",
    "feature_data = JetFlavourHelper.extract_features(\n",
    "    jets, \n",
    "    jet_constituents, \n",
    "    tracks, \n",
    "    bz, \n",
    "    track_L, \n",
    "    trackdata, \n",
    "    trackerhits, \n",
    "    gammadata, \n",
    "    nhdata, \n",
    "    calohits, \n",
    "    dNdx\n",
    ")\n",
    "\n",
    "model, config = JetFlavourHelper.setup_weaver(\n",
    "    onnx_path,\n",
    "    json_path\n",
    ")\n",
    "\n",
    "input_tensors = JetFlavourHelper.prepare_input_tensor(\n",
    "    jet_constituents,\n",
    "    jets,\n",
    "    config,\n",
    "    feature_data\n",
    ")\n",
    "\n",
    "println(\"Running flavor tagging inference...\")\n",
    "weights = JetFlavourHelper.get_weights(\n",
    "    0,  # Thread slot\n",
    "    feature_data,\n",
    "    jets,\n",
    "    jet_constituents,\n",
    "    config,\n",
    "    model\n",
    ")\n",
    "\n",
    "jet_scores = Dict{String, Vector{Float32}}()\n",
    "for (i, score_name) in enumerate(config[\"output_names\"])\n",
    "    jet_scores[score_name] = JetFlavourHelper.get_weight(weights, i-1)\n",
    "end\n",
    "\n",
    "println(\"Jet scores:\")\n",
    "for (name, scores) in jet_scores\n",
    "    println(\" - $name: $(scores[1])\")\n",
    "end"
   ]
  }
 ],
 "metadata": {
  "kernelspec": {
   "display_name": "Julia 1.11.5",
   "language": "julia",
   "name": "julia-1.11"
  },
  "language_info": {
   "file_extension": ".jl",
   "mimetype": "application/julia",
   "name": "julia",
   "version": "1.11.5"
  }
 },
 "nbformat": 4,
 "nbformat_minor": 5
}
